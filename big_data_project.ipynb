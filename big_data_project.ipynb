{
 "cells": [
  {
   "cell_type": "code",
   "execution_count": 40,
   "metadata": {
    "collapsed": false
   },
   "outputs": [],
   "source": [
    "from netaddr import IPNetwork, IPAddress\n",
    "import matplotlib.pyplot as plt\n",
    "import os\n",
    "\n",
    "#c\n",
    "#CITY_BLOCKS_PATH    = ''\n",
    "#CITY_LOCATIONS_PATH = ''\n",
    "#DATA_PATHS          = ''\n",
    "\n",
    "#m\n",
    "CITY_BLOCKS_PATH    = '/FileStore/tables/5ne9pwzz1484570889985/GeoLite2_City_Blocks_IPv4-82d63.csv'\n",
    "CITY_LOCATIONS_PATH = '/FileStore/tables/fcj10i6i1484571614099/GeoLite2_City_Locations_en-6f8fe.csv'\n",
    "DATA_PATHS          = ['/FileStore/tables/xqubiq301484572436491/NetworkTraffic100.csv',\\\n",
    "                       '/FileStore/tables/810vguox1485019521316/100000am.csv',\\\n",
    "                       '/FileStore/tables/810vguox1485019521316/100000pm.csv']\n",
    "#DATA_PATHS          = ['/FileStore/tables/xqubiq301484572436491/NetworkTraffic100.csv']\n",
    "\n",
    "CITY_BLOCKS_PATH    = 'geolite/GeoLite2-City-Blocks-IPv4.csv'\n",
    "CITY_LOCATIONS_PATH = 'geolite/GeoLite2-City-Locations-en.csv'\n",
    "DATA_PATHS          = ['data/NetworkTraffic100.csv',\\\n",
    "                       'data/100000am.csv',\\\n",
    "                       'data/100000pm.csv',\\\n",
    "                       'data/1000000am.csv',\\\n",
    "                       'data/1000000pm.csv']\n",
    "# from directory\n",
    "DATA_PATHS = [os.path.join('data', file) for file in os.listdir('data') if file.endswith('.csv')]\n",
    "\n",
    "#s\n",
    "#CITY_BLOCKS_PATH    = '/FileStore/tables/jk3parwb1484571151117/GeoLite2_City_Blocks_IPv4-82d63.csv\n",
    "#CITY_LOCATIONS_PATH = '/FileStore/tables/1rn58fwl1484571610700/GeoLite2_City_Locations_en-6f8fe.csv'\n",
    "#DATA_PATHS          = '/FileStore/tables/tjpvf32z1484575566663/100.csv']\n",
    "\n",
    "def isIpInNet(ip, net):\n",
    "  \"\"\"\n",
    "  Checks if a ip is part of a net.\n",
    "  e.g. isIpInNet(\"192.168.0.1\", \"192.168.0.0/24\")\n",
    "  \"\"\"\n",
    "  if IPAddress(ip) in IPNetwork(net):\n",
    "    return True\n",
    "  return False\n",
    "\n",
    "def buildNetworkCountryMap():\n",
    "  \"\"\"\n",
    "  Builds a map with data from geoIp2 (http://geolite.maxmind.com/download/geoip/database/GeoLite2-City.mmdb.gz)\n",
    "  1st file contains networks and locationkey (much more data available but we consider only this)\n",
    "  2nd file contains locationkey and country name.\n",
    "  method joins this two datarecords\n",
    "  \n",
    "  returns an RDD as [('network', 'country'), ...]\n",
    "  \"\"\"\n",
    "  geoipfile = sc.textFile(CITY_BLOCKS_PATH, 2)\n",
    "  \n",
    "  #(geoname_id, network) / filters the header\n",
    "  geoipdata = geoipfile.map(lambda l:l.split(',')).filter(lambda l:l[0] not in 'network').map(lambda p: (p[1], p[0]))\n",
    "\n",
    "  locationsfile = sc.textFile(CITY_LOCATIONS_PATH, 2)\n",
    "  \n",
    "  #(geoname_id, country_name) / filters the header\n",
    "  locationsdata = locationsfile.map(lambda l:l.split(',')).filter(lambda l:l[0] not in 'geoname_id').map(lambda p: (p[0], p[5]))\n",
    "\n",
    "  #join on geoname_id\n",
    "  joineddata = geoipdata.join(locationsdata)\n",
    "  \n",
    "  #(network, country_name)\n",
    "  networkmap = joineddata.map(lambda d: (d[1][0],d[1][1]))\n",
    "  return networkmap\n",
    "\n",
    "def getCountryByIpBc(ip):\n",
    "  \"\"\"\n",
    "  Returns the country for the given ip or None if not found\n",
    "  \"\"\"\n",
    "  firstoctet = ip.split(\".\")[0]  \n",
    "  #For speed improvements we build a map with the first 3 digits of the ip. # \"built\" or move to actual creation of map\n",
    "  \n",
    "  if firstoctet in reducednetworkmapbc.value: \n",
    "    for network in reducednetworkmapbc.value[firstoctet]:\n",
    "      if isIpInNet(ip, network[0]):\n",
    "        return network[1]\n",
    "  return None\n",
    "\n",
    "def loadData(filePath):\n",
    "  return sc.textFile(filePath).map(lambda l: l.split(\",\")).filter(lambda l:l[0] not in 'ts' and len(l) > 10)\n",
    "  \n",
    "networkmap = buildNetworkCountryMap().persist()\n",
    "\n",
    "\n"
   ]
  },
  {
   "cell_type": "code",
   "execution_count": 41,
   "metadata": {
    "collapsed": false
   },
   "outputs": [],
   "source": [
    "#We build a map with the first part of the ip, eg. 255 and a list of all the networks (max 4.294.967.296 adresse w/ ipv4)\n",
    "reducednetworkmap = networkmap.map(lambda e: (e[0].split(\".\")[0], [e])).reduceByKey(lambda a,b: a+b)\n",
    "\n",
    "#We need to broadcast this to all nodes to be able to access this map from inside a map function\n",
    "reducednetworkmapbc = sc.broadcast(reducednetworkmap.collectAsMap())"
   ]
  },
  {
   "cell_type": "code",
   "execution_count": 43,
   "metadata": {
    "collapsed": false
   },
   "outputs": [],
   "source": [
    "#read the firewall data\n",
    "data = loadData(DATA_PATHS[0])\n",
    "#print data.take(5)\n",
    "for path in range(1, len(DATA_PATHS)):\n",
    "  #data = sc.union(data, loadData(DATA_PATHS[path]))\n",
    "  data = data.union(loadData(DATA_PATHS[path]))\n",
    "\n",
    "# maybe create an RDD that only contains the relevant columns\n",
    "sourceAddressIndex = 3\n",
    "destinationAddressIndex = 4\n",
    "sourcePortIndex = 5\n",
    "destinationPortIndex = 6\n",
    "protocolIndex = 7\n",
    "inBytesIndex = 12\n",
    "outBytesIndex = 14\n",
    "#data.take(5)\n",
    "\n",
    "#get list of ips and country\n",
    "\n",
    "#-> here sollten wir noch distinct machen auf der ip w������rde nochmals viel schneller werden, oder?!\n",
    "# yep, vorallem da unsere 4.5s nur fuer take(5) gelten, bei take(100) sind's bereits 47s - von daher gute Optimierung ;o)\n",
    "#ipCountry = data.map(lambda l: l.split(',')).map(lambda line: (line[3], getCountryByIpBc(line[3]))) #47s\n",
    "#ipCountry = data.map(lambda l: l.split(',')).map(lambda line: line[3]).distinct().map(lambda sa: (sa, getCountryByIpBc(sa))) # 16s\n",
    "#ipCountry.take(100)\n",
    "\n",
    "#print networkmap.count() #2'766'452\n",
    "#print reducednetworkmap.count() #221 => 2'766'452 / 221 = 12'500; 12'500 / 2 = 6'250 mean average (loops) after dictionary access instead of 2'766'452 / 2 = 1'383'226 (calculation supposes a uniform distribution - which is likely not the case)"
   ]
  },
  {
   "cell_type": "code",
   "execution_count": 44,
   "metadata": {
    "collapsed": true
   },
   "outputs": [],
   "source": [
    "# requests by country\n",
    "requestsByCountry = data\\\n",
    "  .map(lambda line: line[sourceAddressIndex]).distinct()\\\n",
    "  .map(lambda sa: (getCountryByIpBc(sa), 1))\\\n",
    "  .filter(lambda r: r[0] is not None)\\\n",
    "  .reduceByKey(lambda a, b: a + b)\\\n",
    "  .takeOrdered(10, lambda x: -x[1]) # use takeOrdered for small results sets only"
   ]
  },
  {
   "cell_type": "code",
   "execution_count": 52,
   "metadata": {
    "collapsed": false
   },
   "outputs": [],
   "source": [
    "# visualize requests by country\n",
    "fig = plt.figure(figsize=(10, 4))\n",
    "plt.pie([r[1] for r in requestsByCountry],\\\n",
    "        explode=[0.1 if i == 0 else 0.0 for i, r in enumerate(requestsByCountry)],\\\n",
    "        labels=[r[0] for r in requestsByCountry],\\\n",
    "        autopct='%1.1f%%', shadow=True, startangle=90)\n",
    "plt.axis('equal')\n",
    "fig.show()\n",
    "#display(fig) "
   ]
  },
  {
   "cell_type": "code",
   "execution_count": 46,
   "metadata": {
    "collapsed": true
   },
   "outputs": [],
   "source": [
    "# VPN data definition (no collection)\n",
    "vpnIdentifier = '192.168'\n",
    "vpnData = data.filter(lambda r: r[sourceAddressIndex].startswith(vpnIdentifier) or r[destinationAddressIndex].startswith(vpnIdentifier))"
   ]
  },
  {
   "cell_type": "code",
   "execution_count": 47,
   "metadata": {
    "collapsed": false
   },
   "outputs": [
    {
     "name": "stdout",
     "output_type": "stream",
     "text": [
      "[(u'TCP', 1114896), (u'UDP', 508316), (u'ICMP', 323524)]\n"
     ]
    }
   ],
   "source": [
    "# requests by protocol\n",
    "# check for destination?\n",
    "print vpnData\\\n",
    "  .map(lambda r: (r[protocolIndex], 1))\\\n",
    "  .reduceByKey(lambda a, b: a + b)\\\n",
    "  .takeOrdered(10, lambda x: -x[1])"
   ]
  },
  {
   "cell_type": "code",
   "execution_count": 27,
   "metadata": {
    "collapsed": false
   },
   "outputs": [
    {
     "name": "stdout",
     "output_type": "stream",
     "text": [
      "[(u'0', 562069), (u'1521', 323750), (u'53', 247700), (u'3128', 141886), (u'8080', 132181), (u'389', 117191), (u'59531', 73327), (u'443', 63730), (u'137', 63110), (u'8612', 60450)]\n"
     ]
    }
   ],
   "source": [
    "# requests by port (53: Namensaufloesung, 3128: proxy)\n",
    "print vpnData\\\n",
    "  .flatMap(lambda r: [(r[sourcePortIndex], 1), (r[destinationPortIndex], 1)])\\\n",
    "  .reduceByKey(lambda a, b: a + b)\\\n",
    "  .takeOrdered(10, lambda x: -x[1])"
   ]
  },
  {
   "cell_type": "code",
   "execution_count": 48,
   "metadata": {
    "collapsed": false
   },
   "outputs": [
    {
     "name": "stdout",
     "output_type": "stream",
     "text": [
      "[(u'10.3.249.112', 77824.37108516693), (u'194.9.121.8', 40888.62271785736), (u'10.3.249.114', 24576.071294784546), (u'192.168.64.253', 9835.009233474731), (u'77.116.55.104', 9129.918357849121), (u'10.3.249.113', 8192.058261871338), (u'93.132.38.113', 2301.891300201416), (u'192.168.65.84', 2253.489809036255), (u'192.168.64.254', 2030.513918876648), (u'192.168.64.247', 1905.6656064987183), (u'192.168.64.230', 1643.7794170379639), (u'91.224.49.91', 1576.516324043274), (u'117.248.73.51', 1537.834948539734), (u'37.117.141.93', 1486.945083618164), (u'79.239.152.23', 1391.336630821228), (u'213.211.44.177', 1343.207818031311), (u'178.238.175.185', 1331.9958724975586), (u'192.168.64.186', 1305.6822547912598), (u'192.168.64.203', 1286.9487419128418), (u'212.62.205.154', 1251.7154207229614)]\n"
     ]
    }
   ],
   "source": [
    "# heavy senders in MiB 194.9.121.8: proxy\n",
    "heavySenders = data.map(lambda r: (r[sourceAddressIndex], int(r[outBytesIndex])))\\\n",
    "  .reduceByKey(lambda a, b: a + b)\\\n",
    "  .takeOrdered(20, lambda x: -x[1])\n",
    "\n",
    "print [(x[0], x[1] / 1024.0 / 1024.0) for x in heavySenders]"
   ]
  },
  {
   "cell_type": "code",
   "execution_count": 11,
   "metadata": {
    "collapsed": false,
    "scrolled": true
   },
   "outputs": [
    {
     "name": "stdout",
     "output_type": "stream",
     "text": [
      "[(u'194.9.121.8', 12431.61822795868), (u'192.168.64.155', 987.5785312652588), (u'192.168.64.247', 898.1003284454346), (u'84.168.234.14', 726.1536312103271), (u'185.36.45.240', 725.4786233901978), (u'192.168.65.34', 665.936372756958), (u'10.1.73.133', 491.6970386505127), (u'188.23.26.252', 396.550630569458), (u'31.164.61.158', 395.7440404891968), (u'192.168.65.130', 332.15995693206787), (u'31.10.145.46', 270.9416837692261), (u'79.239.152.23', 216.79542446136475), (u'212.56.82.254', 187.82502555847168), (u'192.168.64.204', 177.5008029937744), (u'85.7.152.14', 146.15049362182617), (u'192.168.65.127', 141.49701309204102), (u'192.168.64.186', 132.32152271270752), (u'192.168.65.19', 130.68046283721924), (u'10.3.229.30', 130.6262435913086), (u'192.168.65.33', 124.64183139801025)]\n"
     ]
    }
   ],
   "source": [
    "# heavy receivers in MiB\n",
    "heavyReceivers = data.map(lambda r: (r[sourceAddressIndex], int(r[inBytesIndex])))\\\n",
    "  .reduceByKey(lambda a, b: a + b)\\\n",
    "  .takeOrdered(20, lambda x: -x[1])\n",
    "\n",
    "print [(x[0], x[1] / 1024.0 / 1024.0) for x in heavyReceivers]"
   ]
  },
  {
   "cell_type": "code",
   "execution_count": 50,
   "metadata": {
    "collapsed": false
   },
   "outputs": [
    {
     "name": "stdout",
     "output_type": "stream",
     "text": [
      "[(u'10.3.249.112', 77824.80150985718), (u'194.9.121.8', 53320.24094581604), (u'10.3.249.114', 24576.155138015747), (u'192.168.64.253', 9862.016034126282), (u'77.116.55.104', 9129.918357849121), (u'10.3.249.113', 8192.1283493042), (u'192.168.64.247', 2812.0830154418945), (u'93.132.38.113', 2396.2252798080444), (u'192.168.65.84', 2321.7028980255127), (u'192.168.64.254', 2043.561855316162), (u'192.168.64.155', 1944.943796157837), (u'91.224.49.91', 1701.2791595458984), (u'185.36.45.240', 1685.642198562622), (u'192.168.64.230', 1651.0915279388428), (u'117.248.73.51', 1640.443344116211), (u'79.239.152.23', 1614.3737230300903), (u'37.117.141.93', 1600.638066291809), (u'213.211.44.177', 1455.6029586791992), (u'192.168.64.186', 1445.0450458526611), (u'178.238.175.185', 1428.8481435775757)]\n"
     ]
    }
   ],
   "source": [
    "# overall data whores in MiB\n",
    "overallDataWhores = data.map(lambda r: (r[sourceAddressIndex], int(r[inBytesIndex]) + int(r[outBytesIndex])))\\\n",
    "  .reduceByKey(lambda a, b: a + b)\\\n",
    "  .takeOrdered(20, lambda x: -x[1])\n",
    "\n",
    "print [(x[0], x[1] / 1024.0 / 1024.0) for x in overallDataWhores]"
   ]
  },
  {
   "cell_type": "code",
   "execution_count": 51,
   "metadata": {
    "collapsed": false
   },
   "outputs": [
    {
     "data": {
      "text/plain": [
       "[(u'10.12.79.202', 64),\n",
       " (u'192.168.65.116', 450),\n",
       " (u'192.168.65.97', 35599),\n",
       " (u'192.168.64.190', 4952),\n",
       " (u'192.168.64.190', 289),\n",
       " (u'192.168.64.190', 3710),\n",
       " (u'192.168.65.99', 236),\n",
       " (u'192.168.64.247', 84),\n",
       " (u'192.168.64.243', 236),\n",
       " (u'192.168.65.22', 1018)]"
      ]
     },
     "execution_count": 51,
     "metadata": {},
     "output_type": "execute_result"
    }
   ],
   "source": [
    "# senders and receivers\n",
    "data\\\n",
    "  .filter(lambda r: int(r[inBytesIndex]) > 0 and int(r[outBytesIndex]) > 0)\\\n",
    "  .map(lambda r: (r[sourceAddressIndex], int(r[inBytesIndex]) + int(r[outBytesIndex])))\\\n",
    "  .take(10)"
   ]
  },
  {
   "cell_type": "code",
   "execution_count": null,
   "metadata": {
    "collapsed": true
   },
   "outputs": [],
   "source": []
  }
 ],
 "metadata": {
  "anaconda-cloud": {},
  "kernelspec": {
   "display_name": "Python [Root]",
   "language": "python",
   "name": "Python [Root]"
  },
  "language_info": {
   "codemirror_mode": {
    "name": "ipython",
    "version": 2
   },
   "file_extension": ".py",
   "mimetype": "text/x-python",
   "name": "python",
   "nbconvert_exporter": "python",
   "pygments_lexer": "ipython2",
   "version": "2.7.12"
  },
  "name": "geoip",
  "notebookId": 2650015814937534
 },
 "nbformat": 4,
 "nbformat_minor": 0
}
