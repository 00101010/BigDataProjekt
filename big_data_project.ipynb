{
 "cells": [
  {
   "cell_type": "code",
   "execution_count": 6,
   "metadata": {
    "collapsed": false
   },
   "outputs": [],
   "source": [
    "from netaddr import IPNetwork, IPAddress\n",
    "import matplotlib.pyplot as plt\n",
    "\n",
    "#c\n",
    "#CITY_BLOCKS_PATH    = ''\n",
    "#CITY_LOCATIONS_PATH = ''\n",
    "#DATA_PATHS          = ''\n",
    "\n",
    "#m\n",
    "CITY_BLOCKS_PATH    = '/FileStore/tables/5ne9pwzz1484570889985/GeoLite2_City_Blocks_IPv4-82d63.csv'\n",
    "CITY_LOCATIONS_PATH = '/FileStore/tables/fcj10i6i1484571614099/GeoLite2_City_Locations_en-6f8fe.csv'\n",
    "DATA_PATHS          = ['/FileStore/tables/xqubiq301484572436491/NetworkTraffic100.csv',\\\n",
    "                       '/FileStore/tables/810vguox1485019521316/100000am.csv',\\\n",
    "                       '/FileStore/tables/810vguox1485019521316/100000pm.csv']\n",
    "#DATA_PATHS          = ['/FileStore/tables/xqubiq301484572436491/NetworkTraffic100.csv']\n",
    "\n",
    "CITY_BLOCKS_PATH    = 'geolite/GeoLite2-City-Blocks-IPv4.csv'\n",
    "CITY_LOCATIONS_PATH = 'geolite/GeoLite2-City-Locations-en.csv'\n",
    "DATA_PATHS          = ['data/NetworkTraffic100.csv',\\\n",
    "                       'data/100000am.csv',\\\n",
    "                       'data/100000pm.csv',\\\n",
    "                       'data/1000000am.csv',\\\n",
    "                       'data/1000000pm.csv']\n",
    "\n",
    "\n",
    "\n",
    "#s\n",
    "#CITY_BLOCKS_PATH    = ''/FileStore/tables/jk3parwb1484571151117/GeoLite2_City_Blocks_IPv4-82d63.csv''\n",
    "#CITY_LOCATIONS_PATH = '/FileStore/tables/1rn58fwl1484571610700/GeoLite2_City_Locations_en-6f8fe.csv'\n",
    "#DATA_PATHS          = '/FileStore/tables/tjpvf32z1484575566663/100.csv']\n",
    "\n",
    "def isIpInNet(ip, net):\n",
    "  \"\"\"\n",
    "  Checks if a ip is part of a net.\n",
    "  e.g. isIpInNet(\"192.168.0.1\", \"192.168.0.0/24\")\n",
    "  \"\"\"\n",
    "  if IPAddress(ip) in IPNetwork(net):\n",
    "    return True\n",
    "  return False\n",
    "\n",
    "def buildNetworkCountryMap():\n",
    "  \"\"\"\n",
    "  Builds a map with data from geoIp2 (http://geolite.maxmind.com/download/geoip/database/GeoLite2-City.mmdb.gz)\n",
    "  1st file contains networks and locationkey (much more data available but we consider only this)\n",
    "  2nd file contains locationkey and country name.\n",
    "  method joins this two datarecords\n",
    "  \n",
    "  returns an RDD as [('network', 'country'), ...]\n",
    "  \"\"\"\n",
    "  geoipfile = sc.textFile(CITY_BLOCKS_PATH, 2)\n",
    "  \n",
    "  #(geoname_id, network) / filters the header\n",
    "  geoipdata = geoipfile.map(lambda l:l.split(',')).filter(lambda l:l[0] not in 'network').map(lambda p: (p[1], p[0]))\n",
    "\n",
    "  locationsfile = sc.textFile(CITY_LOCATIONS_PATH, 2)\n",
    "  \n",
    "  #(geoname_id, country_name) / filters the header\n",
    "  locationsdata = locationsfile.map(lambda l:l.split(',')).filter(lambda l:l[0] not in 'geoname_id').map(lambda p: (p[0], p[5]))\n",
    "\n",
    "  #join on geoname_id\n",
    "  joineddata = geoipdata.join(locationsdata)\n",
    "  \n",
    "  #(network, country_name)\n",
    "  networkmap = joineddata.map(lambda d: (d[1][0],d[1][1]))\n",
    "  return networkmap\n",
    "\n",
    "def getCountryByIpBc(ip):\n",
    "  \"\"\"\n",
    "  Returns the country for the given ip or None if not found\n",
    "  \"\"\"\n",
    "  firstoctet = ip.split(\".\")[0]  \n",
    "  #For speed improvements we build a map with the first 3 digits of the ip. # \"built\" or move to actual creation of map\n",
    "  \n",
    "  if firstoctet in reducednetworkmapbc.value: \n",
    "    for network in reducednetworkmapbc.value[firstoctet]:\n",
    "      if isIpInNet(ip, network[0]):\n",
    "        return network[1]\n",
    "  return None\n",
    "\n",
    "def loadData(filePath):\n",
    "  #return sc.textFile(filePath).map(lambda l: l.split(\",\")).filter(lambda l:l[0] not in 'ts' and len[l] > 10)\n",
    "  return sc.textFile(filePath).map(lambda l: l.split(\",\")).filter(lambda l:l[0] not in 'ts' and len(l) > 10)\n",
    "  \n",
    "networkmap = buildNetworkCountryMap().persist()\n",
    "\n",
    "\n"
   ]
  },
  {
   "cell_type": "code",
   "execution_count": 7,
   "metadata": {
    "collapsed": false
   },
   "outputs": [],
   "source": [
    "#We build a map with the first part of the ip, eg. 255 and a list of all the networks (max 4.294.967.296 adresse w/ ipv4)\n",
    "reducednetworkmap = networkmap.map(lambda e: (e[0].split(\".\")[0], [e])).reduceByKey(lambda a,b: a+b)\n",
    "\n",
    "#We need to broadcast this to all nodes to be able to access this map from inside a map function\n",
    "reducednetworkmapbc = sc.broadcast(reducednetworkmap.collectAsMap())"
   ]
  },
  {
   "cell_type": "code",
   "execution_count": 8,
   "metadata": {
    "collapsed": false
   },
   "outputs": [],
   "source": [
    "#read the firewall data\n",
    "data = loadData(DATA_PATHS[0])\n",
    "#print data.take(5)\n",
    "for path in range(1, len(DATA_PATHS)):\n",
    "  #data = sc.union(data, loadData(DATA_PATHS[path]))\n",
    "  data = data.union(loadData(DATA_PATHS[path]))\n",
    "\n",
    "# maybe create an RDD that only contains the relevant columns\n",
    "sourceAddressIndex = 3\n",
    "protocolIndex = 7\n",
    "inBytesIndex = 12\n",
    "outBytesIndex = 14\n",
    "#data.take(5)\n",
    "\n",
    "#get list of ips and country\n",
    "\n",
    "#-> here sollten wir noch distinct machen auf der ip w������rde nochmals viel schneller werden, oder?!\n",
    "# yep, vorallem da unsere 4.5s nur fuer take(5) gelten, bei take(100) sind's bereits 47s - von daher gute Optimierung ;o)\n",
    "#ipCountry = data.map(lambda l: l.split(',')).map(lambda line: (line[3], getCountryByIpBc(line[3]))) #47s\n",
    "#ipCountry = data.map(lambda l: l.split(',')).map(lambda line: line[3]).distinct().map(lambda sa: (sa, getCountryByIpBc(sa))) # 16s\n",
    "#ipCountry.take(100)\n",
    "\n",
    "#print networkmap.count() #2'766'452\n",
    "#print reducednetworkmap.count() #221 => 2'766'452 / 221 = 12'500; 12'500 / 2 = 6'250 mean average (loops) after dictionary access instead of 2'766'452 / 2 = 1'383'226 (calculation supposes a uniform distribution - which is likely not the case)"
   ]
  },
  {
   "cell_type": "code",
   "execution_count": 9,
   "metadata": {
    "collapsed": true
   },
   "outputs": [],
   "source": [
    "# requests by country\n",
    "requestsByCountry = data\\\n",
    "  .map(lambda line: line[sourceAddressIndex]).distinct()\\\n",
    "  .map(lambda sa: (getCountryByIpBc(sa), 1))\\\n",
    "  .filter(lambda r: r[0] is not None)\\\n",
    "  .reduceByKey(lambda a, b: a + b)\\\n",
    "  .takeOrdered(10, lambda x: -x[1]) # use takeOrdered for small results sets only"
   ]
  },
  {
   "cell_type": "code",
   "execution_count": 5,
   "metadata": {
    "collapsed": false
   },
   "outputs": [],
   "source": [
    "# visualize requests by country\n",
    "fig = plt.figure(figsize=(10, 4))\n",
    "plt.pie([r[1] for r in requestsByCountry],\\\n",
    "        explode=[0.1 if i == 0 else 0.0 for i, r in enumerate(requestsByCountry)],\\\n",
    "        labels=[r[0] for r in requestsByCountry],\\\n",
    "        autopct='%1.1f%%', shadow=True, startangle=90)\n",
    "plt.axis('equal')\n",
    "fig.show()\n",
    "#display(fig) "
   ]
  },
  {
   "cell_type": "code",
   "execution_count": 18,
   "metadata": {
    "collapsed": false
   },
   "outputs": [
    {
     "name": "stdout",
     "output_type": "stream",
     "text": [
      "[(u'ICMP', 12960), (u'UDP', 1053), (u'TCP', 986), (u'SCPS', 76)]\n"
     ]
    }
   ],
   "source": [
    "# requests by port\n",
    "# check for destination?\n",
    "print data.filter(lambda r: r[sourceAddressIndex].startswith('194.'))\\\n",
    "  .map(lambda r: (r[protocolIndex], 1))\\\n",
    "  .reduceByKey(lambda a, b: a + b)\\\n",
    "  .takeOrdered(10, lambda x: -x[1])"
   ]
  },
  {
   "cell_type": "code",
   "execution_count": null,
   "metadata": {
    "collapsed": true
   },
   "outputs": [],
   "source": [
    "# heavy senders in MiB\n",
    "heavySenders = data.map(lambda r: (r[sourceAddressIndex], int(r[outBytesIndex])))\\\n",
    "  .reduceByKey(lambda a, b: a + b)\\\n",
    "  .takeOrdered(20, lambda x: -x[1])\n",
    "\n",
    "print [(x[0], x[1] / 1024.0 / 1024.0) for x in heavySenders]"
   ]
  },
  {
   "cell_type": "code",
   "execution_count": null,
   "metadata": {
    "collapsed": true
   },
   "outputs": [],
   "source": [
    "# heavy receivers in MiB\n",
    "heavyReceivers = data.map(lambda r: (r[sourceAddressIndex], int(r[inBytesIndex])))\\\n",
    "  .reduceByKey(lambda a, b: a + b)\\\n",
    "  .takeOrdered(20, lambda x: -x[1])\n",
    "\n",
    "print [(x[0], x[1] / 1024.0 / 1024.0) for x in heavyReceivers]"
   ]
  },
  {
   "cell_type": "code",
   "execution_count": 9,
   "metadata": {
    "collapsed": true
   },
   "outputs": [],
   "source": [
    "# overall data whores in MiB\n",
    "overallDataWhores = data.map(lambda r: (r[sourceAddressIndex], int(r[inBytesIndex]) + int(r[outBytesIndex])))\\\n",
    "  .reduceByKey(lambda a, b: a + b)\\\n",
    "  .takeOrdered(20, lambda x: -x[1])\n",
    "\n",
    "print [(x[0], x[1] / 1024.0 / 1024.0) for x in overallDataWhores]"
   ]
  },
  {
   "cell_type": "code",
   "execution_count": 10,
   "metadata": {
    "collapsed": true
   },
   "outputs": [],
   "source": [
    "# senders and receivers\n",
    "data\\\n",
    "  .filter(lambda r: int(r[inBytesIndex]) > 0 and int(r[outBytesIndex]) > 0)\\\n",
    "  .map(lambda r: (r[sourceAddressIndex], int(r[inBytesIndex]) + int(r[outBytesIndex])))\\\n",
    "  .take(10)"
   ]
  }
 ],
 "metadata": {
  "anaconda-cloud": {},
  "kernelspec": {
   "display_name": "Python [Root]",
   "language": "python",
   "name": "Python [Root]"
  },
  "language_info": {
   "codemirror_mode": {
    "name": "ipython",
    "version": 2
   },
   "file_extension": ".py",
   "mimetype": "text/x-python",
   "name": "python",
   "nbconvert_exporter": "python",
   "pygments_lexer": "ipython2",
   "version": "2.7.12"
  },
  "name": "geoip",
  "notebookId": 2650015814937534
 },
 "nbformat": 4,
 "nbformat_minor": 0
}
